{
 "cells": [
  {
   "cell_type": "code",
   "execution_count": 8,
   "metadata": {},
   "outputs": [
    {
     "name": "stderr",
     "output_type": "stream",
     "text": [
      "/var/folders/94/kbz524cd32j80_2tm_hwnr780000gn/T/ipykernel_11713/4023881355.py:64: FutureWarning: The behavior of DataFrame concatenation with empty or all-NA entries is deprecated. In a future version, this will no longer exclude empty or all-NA columns when determining the result dtypes. To retain the old behavior, exclude the relevant entries before the concat operation.\n",
      "  concatenated_df = pd.concat(dfs, ignore_index=True)\n"
     ]
    }
   ],
   "source": [
    "# Import libraries\n",
    "import pandas as pd\n",
    "import os\n",
    "import seaborn as sns\n",
    "import matplotlib.pyplot as plt\n",
    "from functools import reduce\n",
    "from pathlib import Path\n",
    "\n",
    "# List all data files which should be preprocessed\n",
    "directory = Path('/Users/anja/Desktop/data_mt')\n",
    "data_files = [file.name for file in directory.glob('*.csv')]\n",
    "\n",
    "# Columns needed from raw file\n",
    "desired_columns = ['ident_block_trial', # identifier to determine trial, because dataset is off\n",
    "                    'participant',\n",
    "                    'cc_owner.started', # time when the owner confirm dialog in cc trials was started (to measure if something was off with keep)\n",
    "                    'cc_owner.stopped',\n",
    "                    'yc_owner.started', # time when the owner confirm dialog in yc trials was started (to measure if something was off with keep)\n",
    "                    'yc_owner.stopped',\n",
    "                    'balance.started',\n",
    "                    'balance.stopped',\n",
    "                    'fixation.started',\n",
    "                    'fixation.stopped',\n",
    "                    'round_info.started',\n",
    "                    'round_info.stopped',\n",
    "                    'yc_choice.started',\n",
    "                    'yc_choice.stopped',\n",
    "                    'cc_choice.started',\n",
    "                    'cc_choice.stopped',\n",
    "                    'cc_choice_confirm.started',\n",
    "                    'cc_choice_confirm.stopped',\n",
    "                    'yc_draw_frame.started',\n",
    "                    'yc_draw_frame.stopped',\n",
    "                    'yc_value.started',\n",
    "                    'yc_value.stopped',\n",
    "                    'yc_owner_confirm.started',\n",
    "                    'yc_owner_confirm.stopped',\n",
    "                    'cc_value.started',\n",
    "                    'cc_value.stopped',\n",
    "                    'cc_owner_confirm.started',\n",
    "                    'cc_owner_confirm.stopped'\n",
    "                    ] \n",
    "\n",
    "# Create empty list to store files\n",
    "dfs = []\n",
    "# Read the csv files and create columns in case some are missing\n",
    "for file_name in data_files:\n",
    "    file_path = os.path.join(directory, file_name)\n",
    "    # Get the available columns\n",
    "    df_initial = pd.read_csv(file_path, nrows=0) \n",
    "    available_columns = df_initial.columns.tolist()\n",
    "    # Determine which desired columns are available in csv\n",
    "    existing_columns = [col for col in desired_columns if col in available_columns]\n",
    "    # Read the CSV file, using only the existing columns\n",
    "    df = pd.read_csv(file_path, usecols=existing_columns)\n",
    "    # Add the missing columns with empty values\n",
    "    for col in desired_columns:\n",
    "        if col not in df.columns:\n",
    "            df[col] = pd.NA\n",
    "\n",
    "    dfs.append(df)\n",
    "\n",
    "# Concatenating files together\n",
    "concatenated_df = pd.concat(dfs, ignore_index=True)"
   ]
  },
  {
   "cell_type": "code",
   "execution_count": 9,
   "metadata": {},
   "outputs": [],
   "source": [
    "\n",
    "# Putting owner times in one column\n",
    "concatenated_df['owner_started'] = concatenated_df['cc_owner.started'].combine_first(concatenated_df['yc_owner.started'])\n",
    "concatenated_df['owner_stopped'] = concatenated_df['cc_owner.stopped'].combine_first(concatenated_df['yc_owner.stopped'])\n",
    "# Putting value times in one column\n",
    "concatenated_df['value_started'] = concatenated_df['cc_value.started'].combine_first(concatenated_df['yc_value.started'])\n",
    "concatenated_df['value_stopped'] = concatenated_df['cc_value.stopped'].combine_first(concatenated_df['yc_value.stopped'])\n",
    "# Putting owner confirm times in one column\n",
    "concatenated_df['owner_confirm_started'] = concatenated_df['cc_owner_confirm.started'].combine_first(concatenated_df['yc_owner_confirm.started'])\n",
    "concatenated_df['owner_confirm_stopped'] = concatenated_df['cc_owner_confirm.stopped'].combine_first(concatenated_df['yc_owner_confirm.stopped'])\n",
    "# Putting choice confirm times in one column\n",
    "concatenated_df['choice_confirm_started'] = concatenated_df['cc_choice_confirm.started'].combine_first(concatenated_df['yc_draw_frame.started'])\n",
    "concatenated_df['choice_confirm_stopped'] = concatenated_df['cc_choice_confirm.stopped'].combine_first(concatenated_df['yc_draw_frame.stopped'])\n",
    "\n",
    "# Calculate durations\n",
    "concatenated_df['round_info_duration'] = concatenated_df['round_info.stopped'] - concatenated_df['round_info.started']\n",
    "concatenated_df['fixation_duration'] = concatenated_df['fixation.stopped'] - concatenated_df['fixation.started']\n",
    "concatenated_df['balance_duration'] = concatenated_df['balance.stopped'] - concatenated_df['balance.started']\n",
    "\n",
    "concatenated_df['cc_choice_duration'] = concatenated_df['cc_choice.stopped'] - concatenated_df['cc_choice.started']\n",
    "concatenated_df['yc_choice_duration'] = concatenated_df['yc_choice.stopped'] - concatenated_df['yc_choice.started']\n",
    "\n",
    "concatenated_df['owner_confirm_duration'] = concatenated_df['owner_confirm_stopped'] - concatenated_df['owner_confirm_started']\n",
    "concatenated_df['value_duration'] = concatenated_df['value_stopped'] - concatenated_df['value_started']\n",
    "concatenated_df['owner_duration'] = concatenated_df['owner_stopped'] - concatenated_df['owner_started']\n",
    "concatenated_df['choice_confirm_duration'] = concatenated_df['choice_confirm_stopped'] - concatenated_df['choice_confirm_started']"
   ]
  },
  {
   "cell_type": "code",
   "execution_count": 10,
   "metadata": {},
   "outputs": [],
   "source": [
    "# Select new relevant columns and get rid of the old ones which are not necessary anymore\n",
    "relevant_columns = ['ident_block_trial',\n",
    "                    'participant',\n",
    "                    'owner_duration',\n",
    "                    'round_info_duration',\n",
    "                    'fixation_duration',\n",
    "                    'cc_choice_duration',\n",
    "                    'choice_confirm_duration',\n",
    "                    'value_duration',\n",
    "                    'owner_confirm_duration',\n",
    "                    'yc_choice_duration',\n",
    "                    'balance_duration'\n",
    "                    ] \n",
    "\n",
    "concatenated_df = concatenated_df[relevant_columns]"
   ]
  },
  {
   "cell_type": "code",
   "execution_count": 11,
   "metadata": {},
   "outputs": [],
   "source": [
    "check = concatenated_df.head()"
   ]
  },
  {
   "cell_type": "code",
   "execution_count": 20,
   "metadata": {},
   "outputs": [],
   "source": [
    "subset_1 = concatenated_df[concatenated_df['owner_duration'] > 1.1]\n",
    "subset_2 = concatenated_df[concatenated_df['round_info_duration'] > 1.6]\n",
    "subset_3 = concatenated_df[concatenated_df['fixation_duration'] > 1.1]\n",
    "subset_4 = concatenated_df[concatenated_df['cc_choice_duration'] > 2.1]\n",
    "subset_5 = concatenated_df[concatenated_df['choice_confirm_duration'] > 0.6]\n",
    "subset_6 = concatenated_df[concatenated_df['value_duration'] > 1.1]\n",
    "subset_7 = concatenated_df[concatenated_df['owner_confirm_duration'] > 0.6]\n",
    "subset_8 = concatenated_df[concatenated_df['yc_choice_duration'] > 2.1]\n",
    "subset_9 = concatenated_df[concatenated_df['balance_duration'] > 1.1]"
   ]
  },
  {
   "cell_type": "code",
   "execution_count": 23,
   "metadata": {},
   "outputs": [],
   "source": [
    "data_frame = pd.concat([subset_1,\n",
    "                        subset_2,\n",
    "                        subset_3,\n",
    "                        subset_4,\n",
    "                        subset_5,\n",
    "                        subset_6,\n",
    "                        subset_7,\n",
    "                        subset_8,\n",
    "                        subset_9\n",
    "                        ], ignore_index=True)"
   ]
  },
  {
   "cell_type": "code",
   "execution_count": 24,
   "metadata": {},
   "outputs": [],
   "source": [
    "data_frame = data_frame[['ident_block_trial', 'participant']].drop_duplicates()"
   ]
  }
 ],
 "metadata": {
  "kernelspec": {
   "display_name": "env",
   "language": "python",
   "name": "python3"
  },
  "language_info": {
   "codemirror_mode": {
    "name": "ipython",
    "version": 3
   },
   "file_extension": ".py",
   "mimetype": "text/x-python",
   "name": "python",
   "nbconvert_exporter": "python",
   "pygments_lexer": "ipython3",
   "version": "3.9.19"
  }
 },
 "nbformat": 4,
 "nbformat_minor": 2
}
