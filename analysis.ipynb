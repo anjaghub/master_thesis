{
 "cells": [
  {
   "cell_type": "markdown",
   "metadata": {},
   "source": [
    "# Analysis"
   ]
  },
  {
   "cell_type": "markdown",
   "metadata": {},
   "source": [
    "## Environment Preparation"
   ]
  },
  {
   "cell_type": "code",
   "execution_count": 14,
   "metadata": {},
   "outputs": [],
   "source": [
    "# import libraries\n",
    "import pandas as pd\n",
    "import os\n",
    "import seaborn as sns\n",
    "import matplotlib.pyplot as plt\n",
    "from functools import reduce\n",
    "from datetime import datetime"
   ]
  },
  {
   "cell_type": "code",
   "execution_count": 15,
   "metadata": {},
   "outputs": [],
   "source": [
    "# Function to swap 'lose' with 'win' and vice versa\n",
    "def swap_lose_win(identifier):\n",
    "    if 'lose' in identifier:\n",
    "        return identifier.replace('lose', 'win')\n",
    "    elif 'win' in identifier:\n",
    "        return identifier.replace('win', 'lose')\n",
    "    return identifier\n",
    "\n",
    "# Function to rewrite choice location\n",
    "def map_choice_location(value):\n",
    "    if value == 'g' or value == '-0.3':\n",
    "        return 'left'\n",
    "    elif value == 'k' or value == '0.3':\n",
    "        return 'right'\n",
    "    else:\n",
    "        return 'unknown'\n",
    "    \n",
    "# Function to parse the custom datetime format\n",
    "def parse_custom_datetime(dt_str):\n",
    "    return datetime.strptime(dt_str, '%Y-%m-%d_%Hh%M.%S.%f')"
   ]
  },
  {
   "cell_type": "markdown",
   "metadata": {},
   "source": [
    "## Data Preparation"
   ]
  },
  {
   "cell_type": "code",
   "execution_count": 16,
   "metadata": {},
   "outputs": [],
   "source": [
    "# Reading the files and adding na columns in case columns are missing\n",
    "file_names = [\"fresh_data.csv\"]\n",
    "directory = '/Users/anja/Desktop/data_mt/'\n",
    "\n",
    "desired_columns = ['ident_block_trial', # identifier to determine trial, because dataset is off\n",
    "                    'yc_resp.keys', #keys for color choice in yc condition\n",
    "                    'too_slow_choice.started', # in yc and cc condition when selecting or confirming color\n",
    "                    'wrong_answer_choice.started', # in yc and cc condition when selecting or confirming color\n",
    "                    'participant', # participant id\n",
    "                    'session', # session id\n",
    "                    'date', # date when data collection happened\n",
    "                    'owner_confirm_2.keys', # yc owner confirmation with which key?,\n",
    "                    'owner_confirm_2.rt', # relevant reaction time\n",
    "                    'block', # number of block\n",
    "                    'trial', # number of trial in block\n",
    "                    'chooser', # cc or yc trial?\n",
    "                    'stim1', # left color square\n",
    "                    'stim2', # right color square\n",
    "                    'choice_frame_location', # cozmos color choice\n",
    "                    'owner', # predefined outcome owner\n",
    "                    'value', # predefined outcome value\n",
    "                    'value_distribution', # identifies chance trials\n",
    "                    'identifier_chooser_owner_value', # identifier of condition set, must be corrected for chance trials\n",
    "                    'choice_confirmation.keys', # in cc condition what key was used to confirm color choice\n",
    "                    'owner_confirm.keys', # in cc condition what was confirmed\n",
    "                    'owner_confirm.rt', # relevant reaction time\n",
    "                    'wrong_answer.started', # in cc and yc condition when confirming owner\n",
    "                    'too_slow.started', # in cc and yc condition when confirming owner\n",
    "                    ] \n",
    "\n",
    "# Initialize an empty list to store DataFrames\n",
    "dfs = []\n",
    "\n",
    "# Read the csv files and create columns in case some are missing\n",
    "for file_name in file_names:\n",
    "    file_path = os.path.join(directory, file_name)\n",
    "    \n",
    "    # Get the available columns\n",
    "    df_initial = pd.read_csv(file_path, nrows=0) \n",
    "    available_columns = df_initial.columns.tolist()\n",
    "\n",
    "    # Determine which desired columns are available in csv\n",
    "    existing_columns = [col for col in desired_columns if col in available_columns]\n",
    "\n",
    "    # Read the CSV file, using only the existing columns\n",
    "    df = pd.read_csv(file_path, usecols=existing_columns)\n",
    "\n",
    "    # Add the missing columns with empty values\n",
    "    for col in desired_columns:\n",
    "        if col not in df.columns:\n",
    "            df[col] = pd.NA\n",
    "    \n",
    "    # Append the DataFrame to the list of dataframes\n",
    "    dfs.append(df)\n",
    "\n",
    "# Concatenating files together\n",
    "combined_df = pd.concat(dfs, ignore_index=True)"
   ]
  },
  {
   "cell_type": "code",
   "execution_count": 17,
   "metadata": {},
   "outputs": [],
   "source": [
    "# Creating subsets of data to perform left join\n",
    "first_subset = df[['ident_block_trial','participant','session','date']].drop_duplicates() # auto create\n",
    "second_subset = df[['ident_block_trial','block','trial','chooser','stim1','stim2','choice_frame_location','owner','value','value_distribution','identifier_chooser_owner_value']].dropna() # condition file\n",
    "third_subset = df[['ident_block_trial','yc_resp.keys']].dropna() # you choose color choice\n",
    "fourth_subset = df[['ident_block_trial', 'owner_confirm_2.keys', 'owner_confirm_2.rt']].dropna() # yc owner confirmation\n",
    "fifth_subset = df[['ident_block_trial','choice_confirmation.keys']].dropna() # cc chooses color choice confirmation\n",
    "sixth_subset = df[['ident_block_trial','owner_confirm.keys', 'owner_confirm.rt']].dropna() # cc chooses owner confirmation\n",
    "seventh_subset = df[['ident_block_trial','wrong_answer.started']].dropna()\n",
    "eighth_subset = df[['ident_block_trial','too_slow.started']].dropna()\n",
    "nineth_subset = df[['ident_block_trial','too_slow_choice.started']].dropna()\n",
    "tenth_subset = df[['ident_block_trial','wrong_answer_choice.started']].dropna()"
   ]
  },
  {
   "cell_type": "code",
   "execution_count": 18,
   "metadata": {},
   "outputs": [],
   "source": [
    "# Merging dataframes together so that there is only one line per trial\n",
    "dfs = [first_subset, second_subset, third_subset, fourth_subset, fifth_subset, sixth_subset, seventh_subset, eighth_subset, nineth_subset, tenth_subset]\n",
    "merged_df = reduce(lambda left, right: pd.merge(left, right, on=['ident_block_trial', 'participant'], how='left'), dfs)"
   ]
  },
  {
   "cell_type": "code",
   "execution_count": 19,
   "metadata": {},
   "outputs": [],
   "source": [
    "# Detele practice trials\n",
    "merged_df = merged_df[merged_df['block'] != 'Test']"
   ]
  },
  {
   "cell_type": "code",
   "execution_count": 20,
   "metadata": {},
   "outputs": [],
   "source": [
    "# Putting the reaction times in one column\n",
    "merged_df['owner_confirm_rt'] = merged_df['owner_confirm_2.rt'].combine_first(merged_df['owner_confirm.rt'])\n",
    "\n",
    "# Putting the owner confirm keys in one column\n",
    "merged_df['owner_confirm_keys'] = merged_df['owner_confirm_2.keys'].combine_first(merged_df['owner_confirm.keys'])\n",
    "\n",
    "# Putting choice_frame_location and yc_resp.keys together and change their values in left and right\n",
    "merged_df['choice_location'] = merged_df['yc_resp.keys'].combine_first(merged_df['choice_frame_location'])\n",
    "merged_df['choice_location'] = merged_df['choice_location'].apply(map_choice_location)"
   ]
  },
  {
   "cell_type": "code",
   "execution_count": 21,
   "metadata": {},
   "outputs": [],
   "source": [
    "# Create bool columns for too slow and wrong responses\n",
    "merged_df['bool_wrong_color_confirm'] = ~merged_df['wrong_answer_choice.started'].isna()\n",
    "merged_df['bool_slow_color_choice_or_confirm'] = ~merged_df['too_slow_choice.started'].isna() # for yc and cc same column used\n",
    "merged_df['bool_wrong_owner_confirm'] = ~merged_df['wrong_answer.started'].isna()\n",
    "merged_df['bool_slow_owner_confirm'] = ~merged_df['too_slow.started'].isna()"
   ]
  },
  {
   "cell_type": "code",
   "execution_count": 22,
   "metadata": {},
   "outputs": [],
   "source": [
    "# Correct identifier for random samples (10%) in the original cleaned_df\n",
    "merged_df.loc[merged_df['value_distribution'] == 10, 'identifier_chooser_owner_value'] = merged_df.loc[merged_df['value_distribution'] == 10, 'identifier_chooser_owner_value'].apply(swap_lose_win)"
   ]
  },
  {
   "cell_type": "code",
   "execution_count": 23,
   "metadata": {},
   "outputs": [],
   "source": [
    "# rename identifier column, stim1, stim2, choice_confirmation.keys, \n",
    "new_names = {'stim1': 'left_color', 'stim2': 'right_color', 'choice_confirmation.keys': 'choice_confirm_keys', 'identifier_chooser_owner_value':'identifier_chooser_owner_value_corr'}\n",
    "merged_df = merged_df.rename(columns=new_names)"
   ]
  },
  {
   "cell_type": "code",
   "execution_count": 24,
   "metadata": {},
   "outputs": [],
   "source": [
    "# Create date and time column from date\n",
    "# Apply the parsing function to the 'combined_datetime' column\n",
    "merged_df['parsed_datetime'] = merged_df['date'].apply(parse_custom_datetime)\n",
    "\n",
    "# Extract the date and time components\n",
    "merged_df['date_new'] = merged_df['parsed_datetime'].dt.date\n",
    "merged_df['time'] = merged_df['parsed_datetime'].dt.time\n"
   ]
  },
  {
   "cell_type": "code",
   "execution_count": 25,
   "metadata": {},
   "outputs": [],
   "source": [
    "relevant_columns = ['date_new', # date when data collection happened\n",
    "                    'time',\n",
    "                    'session', # session id\n",
    "                    'participant', # participant id\n",
    "                    'block', # number of block\n",
    "                    'trial', # number of trial in block\n",
    "                    'identifier_chooser_owner_value_corr', # distribution corrected identifier from: identifier_chooser_owner_value\n",
    "                    'chooser', # cc or yc trial?\n",
    "                    'left_color', # left color square\n",
    "                    'right_color', # right color square\n",
    "                    'choice_location',# from 'choice_frame_location' and 'yc_resp.keys'\n",
    "                    'choice_confirm_keys', # from .keys; in cc condition what key was used to confirm color choice\n",
    "                    'value', # predefined outcome value\n",
    "                    'value_distribution', # identifies chance trials\n",
    "                    'owner', # predefined outcome owner\n",
    "                    'owner_confirm_keys', \n",
    "                    'owner_confirm_rt', # relevant reaction time\n",
    "                    'bool_slow_color_choice_or_confirm',\n",
    "                    'bool_wrong_color_confirm', \n",
    "                    'bool_slow_owner_confirm',\n",
    "                    'bool_wrong_owner_confirm'\n",
    "                    ] "
   ]
  },
  {
   "cell_type": "code",
   "execution_count": 26,
   "metadata": {},
   "outputs": [],
   "source": [
    "merged_df = merged_df[relevant_columns]"
   ]
  },
  {
   "cell_type": "code",
   "execution_count": 33,
   "metadata": {},
   "outputs": [],
   "source": [
    "# Create index column\n",
    "merged_df['index_corr'] = merged_df.groupby('participant').cumcount() + 1"
   ]
  },
  {
   "cell_type": "markdown",
   "metadata": {},
   "source": [
    "## Data Cleaning"
   ]
  },
  {
   "cell_type": "code",
   "execution_count": 35,
   "metadata": {},
   "outputs": [],
   "source": [
    "# Clean from rows where response was too slow or wrong\n",
    "data_df = merged_df[(merged_df['bool_slow_color_choice_or_confirm'] == False) & \n",
    "                      (merged_df['bool_wrong_color_confirm'] == False) & \n",
    "                      (merged_df['bool_slow_owner_confirm'] == False) & \n",
    "                      (merged_df['bool_wrong_owner_confirm'] == False)]"
   ]
  },
  {
   "cell_type": "code",
   "execution_count": 28,
   "metadata": {},
   "outputs": [
    {
     "name": "stdout",
     "output_type": "stream",
     "text": [
      "<class 'pandas.core.frame.DataFrame'>\n",
      "Index: 64 entries, 4 to 67\n",
      "Data columns (total 21 columns):\n",
      " #   Column                               Non-Null Count  Dtype  \n",
      "---  ------                               --------------  -----  \n",
      " 0   date_new                             64 non-null     object \n",
      " 1   time                                 64 non-null     object \n",
      " 2   session                              64 non-null     int64  \n",
      " 3   participant                          64 non-null     int64  \n",
      " 4   block                                64 non-null     object \n",
      " 5   trial                                64 non-null     float64\n",
      " 6   identifier_chooser_owner_value_corr  64 non-null     object \n",
      " 7   chooser                              64 non-null     object \n",
      " 8   left_color                           64 non-null     object \n",
      " 9   right_color                          64 non-null     object \n",
      " 10  choice_location                      64 non-null     object \n",
      " 11  choice_confirm_keys                  32 non-null     object \n",
      " 12  value                                64 non-null     object \n",
      " 13  value_distribution                   64 non-null     float64\n",
      " 14  owner                                64 non-null     object \n",
      " 15  owner_confirm_keys                   64 non-null     object \n",
      " 16  owner_confirm_rt                     64 non-null     float64\n",
      " 17  bool_slow_color_choice_or_confirm    64 non-null     bool   \n",
      " 18  bool_wrong_color_confirm             64 non-null     bool   \n",
      " 19  bool_slow_owner_confirm              64 non-null     bool   \n",
      " 20  bool_wrong_owner_confirm             64 non-null     bool   \n",
      "dtypes: bool(4), float64(3), int64(2), object(12)\n",
      "memory usage: 9.2+ KB\n",
      "None\n"
     ]
    }
   ],
   "source": [
    "print(merged_df.info())"
   ]
  },
  {
   "cell_type": "markdown",
   "metadata": {},
   "source": [
    "## Analysis"
   ]
  },
  {
   "cell_type": "code",
   "execution_count": 29,
   "metadata": {},
   "outputs": [],
   "source": [
    "# Mean age, handedness, gender?"
   ]
  },
  {
   "cell_type": "code",
   "execution_count": 30,
   "metadata": {},
   "outputs": [],
   "source": [
    "# How many trials per particpant do we have? How many got sorted out in total? \n",
    "\n",
    "# How many trials per condition group?"
   ]
  },
  {
   "cell_type": "code",
   "execution_count": 31,
   "metadata": {},
   "outputs": [],
   "source": [
    "# Normal distribution of reaction time? Any outliers?"
   ]
  },
  {
   "cell_type": "code",
   "execution_count": 32,
   "metadata": {},
   "outputs": [
    {
     "ename": "KeyError",
     "evalue": "'reaction_time'",
     "output_type": "error",
     "traceback": [
      "\u001b[0;31m---------------------------------------------------------------------------\u001b[0m",
      "\u001b[0;31mKeyError\u001b[0m                                  Traceback (most recent call last)",
      "File \u001b[0;32m~/Documents/GitHub/master_thesis/env/lib/python3.9/site-packages/pandas/core/indexes/base.py:3805\u001b[0m, in \u001b[0;36mIndex.get_loc\u001b[0;34m(self, key)\u001b[0m\n\u001b[1;32m   3804\u001b[0m \u001b[38;5;28;01mtry\u001b[39;00m:\n\u001b[0;32m-> 3805\u001b[0m     \u001b[38;5;28;01mreturn\u001b[39;00m \u001b[38;5;28;43mself\u001b[39;49m\u001b[38;5;241;43m.\u001b[39;49m\u001b[43m_engine\u001b[49m\u001b[38;5;241;43m.\u001b[39;49m\u001b[43mget_loc\u001b[49m\u001b[43m(\u001b[49m\u001b[43mcasted_key\u001b[49m\u001b[43m)\u001b[49m\n\u001b[1;32m   3806\u001b[0m \u001b[38;5;28;01mexcept\u001b[39;00m \u001b[38;5;167;01mKeyError\u001b[39;00m \u001b[38;5;28;01mas\u001b[39;00m err:\n",
      "File \u001b[0;32mindex.pyx:167\u001b[0m, in \u001b[0;36mpandas._libs.index.IndexEngine.get_loc\u001b[0;34m()\u001b[0m\n",
      "File \u001b[0;32mindex.pyx:196\u001b[0m, in \u001b[0;36mpandas._libs.index.IndexEngine.get_loc\u001b[0;34m()\u001b[0m\n",
      "File \u001b[0;32mpandas/_libs/hashtable_class_helper.pxi:7081\u001b[0m, in \u001b[0;36mpandas._libs.hashtable.PyObjectHashTable.get_item\u001b[0;34m()\u001b[0m\n",
      "File \u001b[0;32mpandas/_libs/hashtable_class_helper.pxi:7089\u001b[0m, in \u001b[0;36mpandas._libs.hashtable.PyObjectHashTable.get_item\u001b[0;34m()\u001b[0m\n",
      "\u001b[0;31mKeyError\u001b[0m: 'reaction_time'",
      "\nThe above exception was the direct cause of the following exception:\n",
      "\u001b[0;31mKeyError\u001b[0m                                  Traceback (most recent call last)",
      "Cell \u001b[0;32mIn[32], line 3\u001b[0m\n\u001b[1;32m      1\u001b[0m \u001b[38;5;66;03m# Reaction time per condition group #TODO:change to violin plot when more data is available https://python-graph-gallery.com/39-hidden-data-under-boxplot/\u001b[39;00m\n\u001b[1;32m      2\u001b[0m plt\u001b[38;5;241m.\u001b[39mfigure(figsize\u001b[38;5;241m=\u001b[39m(\u001b[38;5;241m15\u001b[39m, \u001b[38;5;241m6\u001b[39m)) \n\u001b[0;32m----> 3\u001b[0m sns\u001b[38;5;241m.\u001b[39mboxplot( x\u001b[38;5;241m=\u001b[39mcleaned_df[\u001b[38;5;124m\"\u001b[39m\u001b[38;5;124midentifier_chooser_owner_value\u001b[39m\u001b[38;5;124m\"\u001b[39m], y\u001b[38;5;241m=\u001b[39m\u001b[43mcleaned_df\u001b[49m\u001b[43m[\u001b[49m\u001b[38;5;124;43m\"\u001b[39;49m\u001b[38;5;124;43mreaction_time\u001b[39;49m\u001b[38;5;124;43m\"\u001b[39;49m\u001b[43m]\u001b[49m )\n",
      "File \u001b[0;32m~/Documents/GitHub/master_thesis/env/lib/python3.9/site-packages/pandas/core/frame.py:4102\u001b[0m, in \u001b[0;36mDataFrame.__getitem__\u001b[0;34m(self, key)\u001b[0m\n\u001b[1;32m   4100\u001b[0m \u001b[38;5;28;01mif\u001b[39;00m \u001b[38;5;28mself\u001b[39m\u001b[38;5;241m.\u001b[39mcolumns\u001b[38;5;241m.\u001b[39mnlevels \u001b[38;5;241m>\u001b[39m \u001b[38;5;241m1\u001b[39m:\n\u001b[1;32m   4101\u001b[0m     \u001b[38;5;28;01mreturn\u001b[39;00m \u001b[38;5;28mself\u001b[39m\u001b[38;5;241m.\u001b[39m_getitem_multilevel(key)\n\u001b[0;32m-> 4102\u001b[0m indexer \u001b[38;5;241m=\u001b[39m \u001b[38;5;28;43mself\u001b[39;49m\u001b[38;5;241;43m.\u001b[39;49m\u001b[43mcolumns\u001b[49m\u001b[38;5;241;43m.\u001b[39;49m\u001b[43mget_loc\u001b[49m\u001b[43m(\u001b[49m\u001b[43mkey\u001b[49m\u001b[43m)\u001b[49m\n\u001b[1;32m   4103\u001b[0m \u001b[38;5;28;01mif\u001b[39;00m is_integer(indexer):\n\u001b[1;32m   4104\u001b[0m     indexer \u001b[38;5;241m=\u001b[39m [indexer]\n",
      "File \u001b[0;32m~/Documents/GitHub/master_thesis/env/lib/python3.9/site-packages/pandas/core/indexes/base.py:3812\u001b[0m, in \u001b[0;36mIndex.get_loc\u001b[0;34m(self, key)\u001b[0m\n\u001b[1;32m   3807\u001b[0m     \u001b[38;5;28;01mif\u001b[39;00m \u001b[38;5;28misinstance\u001b[39m(casted_key, \u001b[38;5;28mslice\u001b[39m) \u001b[38;5;129;01mor\u001b[39;00m (\n\u001b[1;32m   3808\u001b[0m         \u001b[38;5;28misinstance\u001b[39m(casted_key, abc\u001b[38;5;241m.\u001b[39mIterable)\n\u001b[1;32m   3809\u001b[0m         \u001b[38;5;129;01mand\u001b[39;00m \u001b[38;5;28many\u001b[39m(\u001b[38;5;28misinstance\u001b[39m(x, \u001b[38;5;28mslice\u001b[39m) \u001b[38;5;28;01mfor\u001b[39;00m x \u001b[38;5;129;01min\u001b[39;00m casted_key)\n\u001b[1;32m   3810\u001b[0m     ):\n\u001b[1;32m   3811\u001b[0m         \u001b[38;5;28;01mraise\u001b[39;00m InvalidIndexError(key)\n\u001b[0;32m-> 3812\u001b[0m     \u001b[38;5;28;01mraise\u001b[39;00m \u001b[38;5;167;01mKeyError\u001b[39;00m(key) \u001b[38;5;28;01mfrom\u001b[39;00m \u001b[38;5;21;01merr\u001b[39;00m\n\u001b[1;32m   3813\u001b[0m \u001b[38;5;28;01mexcept\u001b[39;00m \u001b[38;5;167;01mTypeError\u001b[39;00m:\n\u001b[1;32m   3814\u001b[0m     \u001b[38;5;66;03m# If we have a listlike key, _check_indexing_error will raise\u001b[39;00m\n\u001b[1;32m   3815\u001b[0m     \u001b[38;5;66;03m#  InvalidIndexError. Otherwise we fall through and re-raise\u001b[39;00m\n\u001b[1;32m   3816\u001b[0m     \u001b[38;5;66;03m#  the TypeError.\u001b[39;00m\n\u001b[1;32m   3817\u001b[0m     \u001b[38;5;28mself\u001b[39m\u001b[38;5;241m.\u001b[39m_check_indexing_error(key)\n",
      "\u001b[0;31mKeyError\u001b[0m: 'reaction_time'"
     ]
    },
    {
     "data": {
      "text/plain": [
       "<Figure size 1500x600 with 0 Axes>"
      ]
     },
     "metadata": {},
     "output_type": "display_data"
    }
   ],
   "source": [
    "# Reaction time per condition group #TODO:change to violin plot when more data is available https://python-graph-gallery.com/39-hidden-data-under-boxplot/\n",
    "plt.figure(figsize=(15, 6)) \n",
    "sns.boxplot( x=cleaned_df[\"identifier_chooser_owner_value\"], y=cleaned_df[\"reaction_time\"] )"
   ]
  },
  {
   "cell_type": "code",
   "execution_count": null,
   "metadata": {},
   "outputs": [],
   "source": [
    "# how does reaction time develope over time? learing effects? do get people faster? "
   ]
  },
  {
   "cell_type": "code",
   "execution_count": null,
   "metadata": {},
   "outputs": [],
   "source": [
    "# do people prefer one choice? i mean by side? "
   ]
  }
 ],
 "metadata": {
  "kernelspec": {
   "display_name": "Python 3",
   "language": "python",
   "name": "python3"
  },
  "language_info": {
   "codemirror_mode": {
    "name": "ipython",
    "version": 3
   },
   "file_extension": ".py",
   "mimetype": "text/x-python",
   "name": "python",
   "nbconvert_exporter": "python",
   "pygments_lexer": "ipython3",
   "version": "3.9.19"
  }
 },
 "nbformat": 4,
 "nbformat_minor": 2
}
