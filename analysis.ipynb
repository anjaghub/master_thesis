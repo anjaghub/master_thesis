{
 "cells": [
  {
   "cell_type": "markdown",
   "metadata": {},
   "source": [
    "# Analysis"
   ]
  },
  {
   "cell_type": "markdown",
   "metadata": {},
   "source": [
    "## Helper functions"
   ]
  },
  {
   "cell_type": "code",
   "execution_count": 15,
   "metadata": {},
   "outputs": [],
   "source": [
    "# Function to swap 'lose' with 'win' and vice versa\n",
    "def swap_lose_win(identifier):\n",
    "    if 'lose' in identifier:\n",
    "        return identifier.replace('lose', 'win')\n",
    "    elif 'win' in identifier:\n",
    "        return identifier.replace('win', 'lose')\n",
    "    return identifier"
   ]
  },
  {
   "cell_type": "markdown",
   "metadata": {},
   "source": [
    "## Data & Environment Preparation"
   ]
  },
  {
   "cell_type": "code",
   "execution_count": 31,
   "metadata": {},
   "outputs": [],
   "source": [
    "# import libraries\n",
    "import pandas as pd\n",
    "import os\n",
    "import seaborn as sns\n",
    "import matplotlib.pyplot as plt"
   ]
  },
  {
   "cell_type": "code",
   "execution_count": 7,
   "metadata": {},
   "outputs": [],
   "source": [
    "# File names and directory of files\n",
    "file_names = [\"313578_daoo_flow_2024-05-21_08h32.44.710.csv\",\n",
    "              \"995362_daoo_flow_2024-05-21_08h29.59.102.csv\",]\n",
    "directory = '/Users/anja/Desktop/data_mt/'\n",
    "\n",
    "# Initialize an empty list to store DataFrames\n",
    "dfs = []\n",
    "\n",
    "for file_name in file_names:\n",
    "    # Construct the full file path\n",
    "    file_path = os.path.join(directory, file_name)\n",
    "    \n",
    "    # Read the CSV file into a DataFrame\n",
    "    df = pd.read_csv(file_path, usecols=['expStart', # date time\n",
    "                                           'block_name', # which testing block?\n",
    "                                           'participant', # particpant id\n",
    "                                           'value_distribution', # identifies chance trials\n",
    "                                           'value_amount', # what was the actual amount for balance update\n",
    "                                           'identifier_chooser_owner_value', # identifies condition set --> must be corrected\n",
    "                                           'yc_resp.keys', # which color box was chosen?\n",
    "                                           'owner_confirm_2.rt', # reaction time of interest\n",
    "                                           'owner_confirm.rt', # reaction time of interest\n",
    "                                           'too_slow.started', # sort out trial when filled \n",
    "                                           'wrong_answer.started' # sort out trial when filled \n",
    "                                           ])\n",
    "    \n",
    "    # Append the DataFrame to the list\n",
    "    dfs.append(df)\n",
    "\n",
    "# Concatenating files together\n",
    "combined_df = pd.concat(dfs, ignore_index=True)"
   ]
  },
  {
   "cell_type": "code",
   "execution_count": 8,
   "metadata": {},
   "outputs": [
    {
     "name": "stdout",
     "output_type": "stream",
     "text": [
      "           block_name  value_distribution  value_amount  \\\n",
      "0  the practice block                90.0          -2.0   \n",
      "1  the practice block                90.0           4.0   \n",
      "2  the practice block                90.0          -2.0   \n",
      "3  the practice block                90.0           4.0   \n",
      "4        Block 1 of 3                90.0          -2.0   \n",
      "\n",
      "  identifier_chooser_owner_value yc_resp.keys  owner_confirm_2.rt  \\\n",
      "0                            NaN            k            0.552634   \n",
      "1                            NaN            k            0.466795   \n",
      "2                            NaN          NaN                 NaN   \n",
      "3                            NaN          NaN                 NaN   \n",
      "4                 cozmo_you_lose          NaN                 NaN   \n",
      "\n",
      "   owner_confirm.rt  too_slow.started  wrong_answer.started  participant  \\\n",
      "0               NaN               NaN                   NaN     313578.0   \n",
      "1               NaN               NaN                   NaN     313578.0   \n",
      "2          0.724280               NaN                   NaN     313578.0   \n",
      "3          0.724156               NaN                   NaN     313578.0   \n",
      "4          0.513968               NaN                   NaN     313578.0   \n",
      "\n",
      "                           expStart  \n",
      "0  2024-05-21 08h32.50.092485 +0200  \n",
      "1  2024-05-21 08h32.50.092485 +0200  \n",
      "2  2024-05-21 08h32.50.092485 +0200  \n",
      "3  2024-05-21 08h32.50.092485 +0200  \n",
      "4  2024-05-21 08h32.50.092485 +0200  \n"
     ]
    }
   ],
   "source": [
    "# Display head\n",
    "print(combined_df.head())"
   ]
  },
  {
   "cell_type": "code",
   "execution_count": 9,
   "metadata": {},
   "outputs": [
    {
     "name": "stdout",
     "output_type": "stream",
     "text": [
      "       value_distribution  value_amount  owner_confirm_2.rt  owner_confirm.rt  \\\n",
      "count           20.000000     20.000000           11.000000          9.000000   \n",
      "mean            86.000000      1.300000            0.654588          0.652928   \n",
      "std             17.888544      3.062507            0.060933          0.091398   \n",
      "min             10.000000     -2.000000            0.571349          0.527287   \n",
      "25%             90.000000     -2.000000            0.607924          0.589306   \n",
      "50%             90.000000      4.000000            0.661824          0.665550   \n",
      "75%             90.000000      4.000000            0.692923          0.684467   \n",
      "max             90.000000      4.000000            0.765939          0.829201   \n",
      "\n",
      "       wrong_answer.started  too_slow.started  participant  \n",
      "count              1.000000          2.000000         20.0  \n",
      "mean              13.258566        102.339453     995362.0  \n",
      "std                     NaN         29.593153          0.0  \n",
      "min               13.258566         81.413934     995362.0  \n",
      "25%               13.258566         91.876693     995362.0  \n",
      "50%               13.258566        102.339453     995362.0  \n",
      "75%               13.258566        112.802212     995362.0  \n",
      "max               13.258566        123.264972     995362.0  \n"
     ]
    }
   ],
   "source": [
    "# Summary Stats for combined dataframe\n",
    "print(df.describe())"
   ]
  },
  {
   "cell_type": "markdown",
   "metadata": {},
   "source": [
    "## Data Cleaning"
   ]
  },
  {
   "cell_type": "code",
   "execution_count": 22,
   "metadata": {},
   "outputs": [],
   "source": [
    "# Clean from rows where response was too slow or wrong\n",
    "cleaned_df = combined_df[combined_df['too_slow.started'].isna() & combined_df['wrong_answer.started'].isna()]\n",
    "\n",
    "# Clean from practice trials\n",
    "cleaned_df = cleaned_df[cleaned_df['block_name'] != 'the practice block']\n",
    "\n",
    "# Correct identifier for random samples (20%) in the original cleaned_df\n",
    "cleaned_df.loc[cleaned_df['value_distribution'] == 10, 'identifier_chooser_owner_value'] = cleaned_df.loc[cleaned_df['value_distribution'] == 10, 'identifier_chooser_owner_value'].apply(swap_lose_win)"
   ]
  },
  {
   "cell_type": "code",
   "execution_count": 24,
   "metadata": {},
   "outputs": [],
   "source": [
    "# Create one reaction time column from both existing columns\n",
    "cleaned_df['reaction_time'] = cleaned_df['owner_confirm_2.rt'].fillna(cleaned_df['owner_confirm.rt'])"
   ]
  },
  {
   "cell_type": "code",
   "execution_count": 25,
   "metadata": {},
   "outputs": [
    {
     "name": "stdout",
     "output_type": "stream",
     "text": [
      "      block_name  value_distribution  value_amount  \\\n",
      "4   Block 1 of 3                90.0          -2.0   \n",
      "5   Block 1 of 3                90.0           4.0   \n",
      "7   Block 1 of 3                90.0          -2.0   \n",
      "9   Block 2 of 3                90.0           4.0   \n",
      "10  Block 2 of 3                90.0           4.0   \n",
      "\n",
      "   identifier_chooser_owner_value yc_resp.keys  owner_confirm_2.rt  \\\n",
      "4                  cozmo_you_lose          NaN                 NaN   \n",
      "5                   cozmo_you_win          NaN                 NaN   \n",
      "7                    you_you_lose            k            0.514589   \n",
      "9                 cozmo_cozmo_win          NaN                 NaN   \n",
      "10                    you_you_win            g            0.452512   \n",
      "\n",
      "    owner_confirm.rt  too_slow.started  wrong_answer.started  participant  \\\n",
      "4           0.513968               NaN                   NaN     313578.0   \n",
      "5           0.690786               NaN                   NaN     313578.0   \n",
      "7                NaN               NaN                   NaN     313578.0   \n",
      "9           0.498363               NaN                   NaN     313578.0   \n",
      "10               NaN               NaN                   NaN     313578.0   \n",
      "\n",
      "                            expStart  reaction_time  \n",
      "4   2024-05-21 08h32.50.092485 +0200       0.513968  \n",
      "5   2024-05-21 08h32.50.092485 +0200       0.690786  \n",
      "7   2024-05-21 08h32.50.092485 +0200       0.514589  \n",
      "9   2024-05-21 08h32.50.092485 +0200       0.498363  \n",
      "10  2024-05-21 08h32.50.092485 +0200       0.452512  \n"
     ]
    }
   ],
   "source": [
    "print(cleaned_df.head())"
   ]
  },
  {
   "cell_type": "code",
   "execution_count": 27,
   "metadata": {},
   "outputs": [
    {
     "name": "stdout",
     "output_type": "stream",
     "text": [
      "<class 'pandas.core.frame.DataFrame'>\n",
      "Index: 27 entries, 4 to 40\n",
      "Data columns (total 12 columns):\n",
      " #   Column                          Non-Null Count  Dtype  \n",
      "---  ------                          --------------  -----  \n",
      " 0   block_name                      25 non-null     object \n",
      " 1   value_distribution              25 non-null     float64\n",
      " 2   value_amount                    25 non-null     float64\n",
      " 3   identifier_chooser_owner_value  25 non-null     object \n",
      " 4   yc_resp.keys                    13 non-null     object \n",
      " 5   owner_confirm_2.rt              13 non-null     float64\n",
      " 6   owner_confirm.rt                12 non-null     float64\n",
      " 7   too_slow.started                0 non-null      float64\n",
      " 8   wrong_answer.started            0 non-null      float64\n",
      " 9   participant                     25 non-null     float64\n",
      " 10  expStart                        25 non-null     object \n",
      " 11  reaction_time                   25 non-null     float64\n",
      "dtypes: float64(8), object(4)\n",
      "memory usage: 2.7+ KB\n",
      "None\n"
     ]
    }
   ],
   "source": [
    "print(cleaned_df.info())"
   ]
  },
  {
   "cell_type": "markdown",
   "metadata": {},
   "source": [
    "## Analysis"
   ]
  },
  {
   "cell_type": "code",
   "execution_count": null,
   "metadata": {},
   "outputs": [],
   "source": [
    "# Mean age, handedness, gender?"
   ]
  },
  {
   "cell_type": "code",
   "execution_count": null,
   "metadata": {},
   "outputs": [],
   "source": [
    "# How many trials per particpant do we have? How many got sorted out in total? \n",
    "\n",
    "# How many trials per condition group?"
   ]
  },
  {
   "cell_type": "code",
   "execution_count": null,
   "metadata": {},
   "outputs": [],
   "source": [
    "# Normal distribution of reaction time? Any outliers?"
   ]
  },
  {
   "cell_type": "code",
   "execution_count": 34,
   "metadata": {},
   "outputs": [
    {
     "data": {
      "text/plain": [
       "<Axes: xlabel='identifier_chooser_owner_value', ylabel='reaction_time'>"
      ]
     },
     "execution_count": 34,
     "metadata": {},
     "output_type": "execute_result"
    },
    {
     "data": {
      "image/png": "[encoded data removed]",
      "text/plain": [
       "<Figure size 1500x600 with 1 Axes>"
      ]
     },
     "metadata": {},
     "output_type": "display_data"
    }
   ],
   "source": [
    "# Reaction time per condition group #TODO:change to violin plot when more data is available\n",
    "plt.figure(figsize=(15, 6)) \n",
    "sns.boxplot( x=cleaned_df[\"identifier_chooser_owner_value\"], y=cleaned_df[\"reaction_time\"] )"
   ]
  },
  {
   "cell_type": "code",
   "execution_count": null,
   "metadata": {},
   "outputs": [],
   "source": [
    "# how does reaction time develope over time? learing effects? do get people faster? "
   ]
  },
  {
   "cell_type": "code",
   "execution_count": null,
   "metadata": {},
   "outputs": [],
   "source": [
    "# do people prefer one choice? i mean by side? "
   ]
  }
 ],
 "metadata": {
  "kernelspec": {
   "display_name": "Python 3",
   "language": "python",
   "name": "python3"
  },
  "language_info": {
   "codemirror_mode": {
    "name": "ipython",
    "version": 3
   },
   "file_extension": ".py",
   "mimetype": "text/x-python",
   "name": "python",
   "nbconvert_exporter": "python",
   "pygments_lexer": "ipython3",
   "version": "3.9.19"
  }
 },
 "nbformat": 4,
 "nbformat_minor": 2
}
